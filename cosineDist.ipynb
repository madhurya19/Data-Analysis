{
 "cells": [
  {
   "cell_type": "code",
   "execution_count": 1,
   "metadata": {},
   "outputs": [],
   "source": [
    "import math\n",
    "import re\n",
    "from collections import Counter"
   ]
  },
  {
   "cell_type": "code",
   "execution_count": 2,
   "metadata": {},
   "outputs": [],
   "source": [
    "# regular expression\n",
    "# \\w matches any alphanumeric character and the underscore\n",
    "# + causes the RE to match 1 or more repetitions of the preceding RE\n",
    "WORD = re.compile(r'\\w+')"
   ]
  },
  {
   "cell_type": "code",
   "execution_count": 3,
   "metadata": {},
   "outputs": [],
   "source": [
    "def textToVector(text):\n",
    "    words = WORD.findall(text)\n",
    "    # unordered collection where elements are stored as dict keys, and counts are stored as dict vals\n",
    "    return Counter(words)"
   ]
  },
  {
   "cell_type": "code",
   "execution_count": 4,
   "metadata": {},
   "outputs": [],
   "source": [
    "def cosDistance(vector1, vector2):\n",
    "    # set of unordered collection of unique items\n",
    "    intersection = set(vector1.keys()) & set(vector2.keys())  # return set with elements in intersection\n",
    "    numerator = sum([vector1[x] * vector2[x] for x in intersection])\n",
    "\n",
    "    sum1 = sum([vector1[x] ** 2 for x in vector1.keys()])\n",
    "    sum2 = sum([vector2[x] ** 2 for x in vector2.keys()])\n",
    "    denominator = math.sqrt(sum1) * math.sqrt(sum2)\n",
    "\n",
    "    if not denominator:\n",
    "        return 0.0\n",
    "    else:\n",
    "        return float(numerator) / denominator"
   ]
  },
  {
   "cell_type": "code",
   "execution_count": 10,
   "metadata": {},
   "outputs": [],
   "source": [
    "def readFile(fileName):\n",
    "    return open(\"../data/\" + fileName, 'r').read()"
   ]
  },
  {
   "cell_type": "code",
   "execution_count": 6,
   "metadata": {},
   "outputs": [],
   "source": [
    "text1 = readFile(\"nowIsTheTime.txt\")\n",
    "text2 = readFile(\"myFavoriteBook.txt\")"
   ]
  },
  {
   "cell_type": "code",
   "execution_count": null,
   "metadata": {},
   "outputs": [],
   "source": [
    "vector1 = textToVector(text1)\n",
    "vector2 = textToVector(text2)"
   ]
  },
  {
   "cell_type": "code",
   "execution_count": 8,
   "metadata": {},
   "outputs": [],
   "source": [
    "cosine = cosDistance(vector1, vector2)"
   ]
  },
  {
   "cell_type": "code",
   "execution_count": 9,
   "metadata": {},
   "outputs": [
    {
     "name": "stdout",
     "output_type": "stream",
     "text": [
      "Cosine Distance:\t 0.17928429140015903\n"
     ]
    }
   ],
   "source": [
    "print(\"Cosine Distance:\\t\", cosine)"
   ]
  }
 ],
 "metadata": {
  "kernelspec": {
   "display_name": "Python 3",
   "language": "python",
   "name": "python3"
  },
  "language_info": {
   "codemirror_mode": {
    "name": "ipython",
    "version": 3
   },
   "file_extension": ".py",
   "mimetype": "text/x-python",
   "name": "python",
   "nbconvert_exporter": "python",
   "pygments_lexer": "ipython3",
   "version": "3.7.3"
  }
 },
 "nbformat": 4,
 "nbformat_minor": 2
}
